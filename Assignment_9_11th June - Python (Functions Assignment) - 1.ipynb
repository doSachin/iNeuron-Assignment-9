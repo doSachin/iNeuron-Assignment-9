{
 "cells": [
  {
   "cell_type": "markdown",
   "id": "b264b4c2",
   "metadata": {},
   "source": [
    "<h1 align=\"center\" ><span style=\"color: blue; font-size: 48px; \"><b> Assignment No. 9</b></span></h1>\n",
    "\n",
    "<h1 style=\"font-family: Trebuchet MS; font-size: 14px; color: #34495E; text-align: right; \">Submitted By: Sachin Dodake</h1>\n",
    "\n",
    "<hr style=\"height:3px;border-width:1;color:blue;background-color:blue\">"
   ]
  },
  {
   "cell_type": "markdown",
   "id": "b4661cea",
   "metadata": {},
   "source": [
    "### 1. What is a `lambda function` in Python, and how does it differ from a `regular function`?"
   ]
  },
  {
   "cell_type": "markdown",
   "id": "49ac8f67",
   "metadata": {},
   "source": [
    "**`Ans-4`**\n",
    "\n",
    "> **`Lambda Function:`**\n",
    ">- A `lambda function` is an anonymous function (i.e., defined without a name) that can take any number of arguments but, unlike normal functions, evaluates and returns only one expression.\n",
    ">- Python `Lambda Functions` are anonymous function means that the function is without a name. As we already know that the def keyword is used to define a normal function in Python. Similarly, the lambda keyword is used to define an anonymous function in Python. \n",
    ">- **Syntax:**\n",
    "            lambda p1, p2: expression\n",
    "                        p1- parameter1 to pass in lambda function\n",
    "                        p2- parameter2 to pass in lambda function                      \n",
    ">- The anatomy of a lambda function includes three elements:\n",
    "            The keyword lambda — an analog of def in normal functions\n",
    "            The parameters — support passing positional and keyword arguments, just like normal functions\n",
    "            The body — the expression for given parameters being evaluated with the lambda function                       \n",
    "                        "
   ]
  },
  {
   "cell_type": "code",
   "execution_count": 51,
   "id": "46a111eb",
   "metadata": {
    "ExecuteTime": {
     "end_time": "2023-06-20T19:56:41.038206Z",
     "start_time": "2023-06-20T19:56:41.016520Z"
    }
   },
   "outputs": [
    {
     "name": "stdout",
     "output_type": "stream",
     "text": [
      "The multiplication using `Lambda Function` is : 30\n"
     ]
    }
   ],
   "source": [
    "# Exaplaination on Lambda function to Multiply argument a with argument b and return the result:\n",
    "\n",
    "multi = lambda a, b : a * b\n",
    "\n",
    "print(f\"The multiplication using `Lambda Function` is : {multi(5, 6)}\")"
   ]
  },
  {
   "cell_type": "markdown",
   "id": "9c3759c7",
   "metadata": {},
   "source": [
    "                        \n",
    "> **Regular Function-Vs-Lambda Function:**\n",
    ">- **`Syntax:`** Lambda functions are written in a single line of code, whereas regular functions defined with def can span multiple lines. \n",
    ">- **`Function Name:`** Lambda functions do not have a name, whereas regular functions defined with def have a name. \n",
    ">- **`Return Statement:`** Lambda functions automatically return the result of the expression they evaluate, while regular functions defined with def require an explicit return statement to return a value. \n",
    ">- **`Arguments:`** Both types of functions can take any number of arguments, but lambda functions are typically used for simple, one-line expressions with one or two arguments. \n",
    ">- **`Functionality:`** Regular functions defined with def can include complex logic, including flow control statements (such as if and while), error handling, and more complex calculations. Lambda functions are typically used for simple operations, such as filtering, mapping, or reducing data.\n",
    ">-  **Example:** The examples of `Lambda` & `Regular` function are as below:"
   ]
  },
  {
   "cell_type": "code",
   "execution_count": 49,
   "id": "cf7c971c",
   "metadata": {
    "ExecuteTime": {
     "end_time": "2023-06-20T19:53:59.057054Z",
     "start_time": "2023-06-20T19:53:59.043002Z"
    }
   },
   "outputs": [
    {
     "name": "stdout",
     "output_type": "stream",
     "text": [
      "The result using 'Lambda' function is : 5\n",
      "\n",
      "The result using 'Regular' function is : 5\n"
     ]
    }
   ],
   "source": [
    "#  Explaination of Lambda function that adds two numbers \n",
    "add_lambda = lambda x, y: x + y \n",
    "\n",
    "# Explaination of Regular function that adds two numbers \n",
    "def add_def(x, y):     \n",
    "    return x + y \n",
    "\n",
    "# Calling the functions \n",
    "print(f\"The result using 'Lambda' function is : {add_lambda(2, 3)}\") \n",
    "print(f\"\\nThe result using 'Regular' function is : {add_def(2, 3)}\")   "
   ]
  },
  {
   "cell_type": "markdown",
   "id": "803a1b27",
   "metadata": {},
   "source": [
    "### 2. Can a `lambda function` in Python have `multiple arguments`? If yes, how can you define and use them?"
   ]
  },
  {
   "cell_type": "markdown",
   "id": "c2aa83da",
   "metadata": {},
   "source": [
    "**`Ans-2`**\n",
    "\n",
    ">- `Python lambda function` can be used with multiple arguments and these arguments are used in evaluating an expression to return a single value. A Python lambda function is used to execute an anonymous function, an anonymous meaning function without a name. \n",
    ">- `Python lambda function` can take any number of arguments, but can only have one expression and they can be used wherever function objects are required. Here is the syntax of the lambda.\n",
    ">- To pass multiple arguments in the lambda function, we must mention all the parameters separated by commas.\n",
    ">- **Syntax:**\n",
    "            lambda argument, [argument, argument]: expression\n",
    ">- We can use multiple arguements in lambda function in the following ways:\n",
    "            i) Python Lambda with Two Arguments,\n",
    "            ii) Using Multiple Iterables,\n",
    "            iii) Using String List as Multiple Arguments."
   ]
  },
  {
   "cell_type": "markdown",
   "id": "32619da0",
   "metadata": {},
   "source": [
    "> **`i) Python Lambda with Two Arguments: `**"
   ]
  },
  {
   "cell_type": "code",
   "execution_count": 2,
   "id": "d2907295",
   "metadata": {
    "ExecuteTime": {
     "end_time": "2023-06-21T11:36:13.849434Z",
     "start_time": "2023-06-21T11:36:13.835951Z"
    }
   },
   "outputs": [
    {
     "name": "stdout",
     "output_type": "stream",
     "text": [
      "30\n"
     ]
    }
   ],
   "source": [
    "# Lambda example with two arguments\n",
    "add = lambda x, y : x + y\n",
    "print(add(10, 20))"
   ]
  },
  {
   "cell_type": "markdown",
   "id": "917f0954",
   "metadata": {},
   "source": [
    "> **`ii) Using Multiple Iterables: `**"
   ]
  },
  {
   "cell_type": "code",
   "execution_count": 3,
   "id": "c1d33d42",
   "metadata": {
    "ExecuteTime": {
     "end_time": "2023-06-21T11:36:58.251659Z",
     "start_time": "2023-06-21T11:36:58.239911Z"
    }
   },
   "outputs": [
    {
     "name": "stdout",
     "output_type": "stream",
     "text": [
      "[3, 7, 7, 8, 7]\n"
     ]
    }
   ],
   "source": [
    "# Create two lists with numbers \n",
    "numbers1 = [2, 4, 5, 6, 3]\n",
    "numbers2 = [1, 3, 2, 2, 4]\n",
    "\n",
    "# Create lambda function that takes two arguments\n",
    "add_fun = lambda x, y: x+y\n",
    "\n",
    "# Use lambda with map() function\n",
    "add_result = list(map(add_fun, numbers1, numbers2))\n",
    "print(add_result) \n"
   ]
  },
  {
   "cell_type": "markdown",
   "id": "d4dc35a7",
   "metadata": {},
   "source": [
    "> **`iii) Using String List as Multiple Arguments`**"
   ]
  },
  {
   "cell_type": "code",
   "execution_count": 7,
   "id": "7aad677d",
   "metadata": {
    "ExecuteTime": {
     "end_time": "2023-06-21T11:38:40.329716Z",
     "start_time": "2023-06-21T11:38:40.309671Z"
    }
   },
   "outputs": [
    {
     "name": "stdout",
     "output_type": "stream",
     "text": [
      "List-1: ['A', 'B', 'C', 'D']\n",
      "List-2: ['a', 'b', 'c', 'd']\n",
      "\n",
      "Result: ['Aa', 'Bb', 'Cc', 'Dd']\n"
     ]
    }
   ],
   "source": [
    "# Create string list\n",
    "list_1 = [\"A\",\"B\",\"C\",\"D\"]\n",
    "list_2 = [\"a\",\"b\",\"c\",\"d\"]\n",
    "print(\"List-1:\",list_1)\n",
    "print(\"List-2:\",list_2)\n",
    "\n",
    "# Use lower() function\n",
    "lower_result = list(map(lambda x,y: x + y, list_1, list_2))\n",
    "print(\"\\nResult:\",lower_result)"
   ]
  },
  {
   "cell_type": "markdown",
   "id": "94347b42",
   "metadata": {},
   "source": [
    "### 3. How are `lambda functions` typically used in Python? Provide an example use case."
   ]
  },
  {
   "cell_type": "markdown",
   "id": "e6de9faa",
   "metadata": {},
   "source": [
    "**`Ans-3`**\n",
    "\n",
    ">- Lambda functions are frequently used with higher-order functions, which take one or more functions as arguments or return one or more functions.\n",
    ">- A lambda function can be a higher-order function by taking a function (normal or lambda) as an argument.\n",
    ">- Python exposes higher-order functions as built-in functions or in the standard library which includes `map(), filter(), functools.reduce(), as well as key functions like sort(), sorted(), min(), and max().`\n",
    ">- The various use cases of` Python Lmbda function` are listed below:\n",
    "            i) Sorting Lists with Custom Keys,\n",
    "            ii) Filtering Lists with the filter() Function,\n",
    "            iii) Applying Transformations with the map() Function,\n",
    "            iv) Using Lambda Functions with functools.reduce(),\n",
    "            v) Creating Small, One-Time-Use Functions,\n",
    "            vi) Implementing Simple Event Handlers,\n",
    "            vii) Using Lambda Functions in GUI Programming with Tkinter,\n",
    "            viii) Implementing Custom Comparison Functions for Data Structures,\n",
    "            ix) Using Lambda Functions in Concurrent Programming with ThreadPoolExecutor.\n",
    "            "
   ]
  },
  {
   "cell_type": "markdown",
   "id": "c76d6b17",
   "metadata": {},
   "source": [
    "> **`i) Sorting Lists with Custom Keys:`**\n",
    ">- Lambda functions can be used as a custom key function when sorting lists, allowing you to sort based on a specific attribute or calculation.\n",
    ">- **Example:**"
   ]
  },
  {
   "cell_type": "code",
   "execution_count": 9,
   "id": "aa4f340b",
   "metadata": {
    "ExecuteTime": {
     "end_time": "2023-06-21T12:48:56.623548Z",
     "start_time": "2023-06-21T12:48:56.596101Z"
    }
   },
   "outputs": [
    {
     "name": "stdout",
     "output_type": "stream",
     "text": [
      "[('Bob', 85), ('Alice', 90), ('Charlie', 92)]\n"
     ]
    }
   ],
   "source": [
    "students = [('Alice', 90), ('Bob', 85), ('Charlie', 92)]\n",
    "sorted_students = sorted(students, key=lambda x: x[1])\n",
    "print(sorted_students)"
   ]
  },
  {
   "cell_type": "markdown",
   "id": "d82ec453",
   "metadata": {},
   "source": [
    "> **`ii) Filtering Lists with the filter() Function:`**\n",
    ">- The filter() function can be used in conjunction with a lambda function to filter a list based on a specific condition.\n",
    ">- **Example:**"
   ]
  },
  {
   "cell_type": "code",
   "execution_count": 10,
   "id": "826ad0ee",
   "metadata": {
    "ExecuteTime": {
     "end_time": "2023-06-21T12:49:32.385538Z",
     "start_time": "2023-06-21T12:49:32.374962Z"
    }
   },
   "outputs": [
    {
     "name": "stdout",
     "output_type": "stream",
     "text": [
      "[2, 4, 6, 8]\n"
     ]
    }
   ],
   "source": [
    "numbers = [1, 2, 3, 4, 5, 6, 7, 8, 9]\n",
    "even_numbers = list(filter(lambda x: x % 2 == 0, numbers))\n",
    "print(even_numbers)"
   ]
  },
  {
   "cell_type": "markdown",
   "id": "3a86a4ad",
   "metadata": {
    "ExecuteTime": {
     "end_time": "2023-06-21T12:45:39.830582Z",
     "start_time": "2023-06-21T12:45:39.783523Z"
    }
   },
   "source": [
    "> **`iii) Applying Transformations with the map() Function:`**\n",
    ">- The map() function can be used with a lambda function to apply a transformation to each element in a list.\n",
    ">- **Example:**"
   ]
  },
  {
   "cell_type": "code",
   "execution_count": 11,
   "id": "35313066",
   "metadata": {
    "ExecuteTime": {
     "end_time": "2023-06-21T12:49:57.027915Z",
     "start_time": "2023-06-21T12:49:56.996305Z"
    }
   },
   "outputs": [
    {
     "name": "stdout",
     "output_type": "stream",
     "text": [
      "[1, 4, 9, 16, 25]\n"
     ]
    }
   ],
   "source": [
    "numbers = [1, 2, 3, 4, 5]\n",
    "squares = list(map(lambda x: x**2, numbers))\n",
    "print(squares)"
   ]
  },
  {
   "cell_type": "markdown",
   "id": "479b8755",
   "metadata": {},
   "source": [
    "> **`iv) Using Lambda Functions with functools.reduce():`**\n",
    ">- The reduce() function from the functools module can be used with a lambda function to apply a binary operation cumulatively to the elements in a list, reducing the list to a single value.\n",
    ">- **Example:**"
   ]
  },
  {
   "cell_type": "code",
   "execution_count": 12,
   "id": "c69e092b",
   "metadata": {
    "ExecuteTime": {
     "end_time": "2023-06-21T12:50:21.640261Z",
     "start_time": "2023-06-21T12:50:21.628216Z"
    }
   },
   "outputs": [
    {
     "name": "stdout",
     "output_type": "stream",
     "text": [
      "120\n"
     ]
    }
   ],
   "source": [
    "from functools import reduce\n",
    " \n",
    "numbers = [1, 2, 3, 4, 5]\n",
    "product = reduce(lambda x, y: x * y, numbers)\n",
    "print(product)"
   ]
  },
  {
   "cell_type": "markdown",
   "id": "ccc23980",
   "metadata": {},
   "source": [
    "> **`v) Creating Small, One-Time-Use Functions:`**\n",
    ">- Lambda functions are ideal for creating small, one-time-use functions that don’t need a proper function definition.\n",
    ">- **Example:**"
   ]
  },
  {
   "cell_type": "code",
   "execution_count": 13,
   "id": "fabd635f",
   "metadata": {
    "ExecuteTime": {
     "end_time": "2023-06-21T12:50:47.516864Z",
     "start_time": "2023-06-21T12:50:47.503872Z"
    }
   },
   "outputs": [
    {
     "name": "stdout",
     "output_type": "stream",
     "text": [
      "7\n"
     ]
    }
   ],
   "source": [
    "max_value = (lambda x, y: x if x > y else y)(5, 7)\n",
    "print(max_value)"
   ]
  },
  {
   "cell_type": "markdown",
   "id": "bdc16062",
   "metadata": {},
   "source": [
    "### 4. What are the `advantages and limitations` of lambda functions compared to `regular functions` in Python?"
   ]
  },
  {
   "cell_type": "markdown",
   "id": "c3570a84",
   "metadata": {},
   "source": [
    "**`Ans-4`**\n",
    "\n",
    "> **`Advantages:`**\n",
    ">- Ease of creating the function.\n",
    ">- Variables with few options.\n",
    "    \n",
    "> **`Disadvantages:`**\n",
    ">- Despite Python’s popularity as the world’s most popular programming language, the Lambda is not user-friendly.\n",
    ">- The Lambda function will be a problem if we need to build a complex function.\n",
    ">- Strictly limited to a single expression.\n",
    ">- Although it cannot access a global variable, it can access the lone local variable.\n",
    ">- The simplicity of the Lambda function, which is a single statement, cannot be acceptable in all circumstances.\n",
    ">- For clarity, most Python functions and modules contain documentation, which is another drawback of the Lambda function."
   ]
  },
  {
   "cell_type": "markdown",
   "id": "a223cdfc",
   "metadata": {},
   "source": [
    "### 5. Are `lambda functions` in Python able to access variables defined outside of their own scope? Explain with an example."
   ]
  },
  {
   "cell_type": "markdown",
   "id": "724c485f",
   "metadata": {},
   "source": [
    "**`Ans-5`**\n",
    "\n",
    ">- Lambda functions have their own local namespace and can not access variables other than those in their parameter list and those in the global namespace."
   ]
  },
  {
   "cell_type": "markdown",
   "id": "b2e3078d",
   "metadata": {},
   "source": [
    "### 6. Write a `lambda function` to calculate the `square of a given number`."
   ]
  },
  {
   "cell_type": "markdown",
   "id": "58dd0449",
   "metadata": {},
   "source": [
    "**`Ans-6`**"
   ]
  },
  {
   "cell_type": "code",
   "execution_count": 27,
   "id": "e21a694b",
   "metadata": {
    "ExecuteTime": {
     "end_time": "2023-06-21T14:26:18.861021Z",
     "start_time": "2023-06-21T14:26:17.394775Z"
    }
   },
   "outputs": [
    {
     "name": "stdout",
     "output_type": "stream",
     "text": [
      "Please Enter the  Number : 6\n",
      "The square of given number `6` is : 36\n"
     ]
    }
   ],
   "source": [
    "number = int(input('Please Enter the  Number : '))          # taking inputs from user\n",
    "\n",
    "output = lambda number: number * number       # applying LAMBDA function\n",
    "\n",
    "print(f\"The square of given number `{number}` is : {output(number)}\")      # Printing result"
   ]
  },
  {
   "cell_type": "markdown",
   "id": "c6649937",
   "metadata": {},
   "source": [
    "### 7. Create a `lambda function` to find the `maximum value` in a list of integers."
   ]
  },
  {
   "cell_type": "markdown",
   "id": "875d9d0b",
   "metadata": {},
   "source": [
    "**`Ans-7`**"
   ]
  },
  {
   "cell_type": "code",
   "execution_count": 3,
   "id": "177827c2",
   "metadata": {
    "ExecuteTime": {
     "end_time": "2023-06-21T15:17:07.428767Z",
     "start_time": "2023-06-21T15:16:51.993176Z"
    }
   },
   "outputs": [
    {
     "name": "stdout",
     "output_type": "stream",
     "text": [
      "Enter elements of a list separated by comma: 11,55,99,33,77,22,44,66,88\n",
      "\n",
      "The user list is : ['11', '55', '99', '33', '77', '22', '44', '66', '88'].\n",
      "\n",
      "The maximum number from the user list is : 99.\n"
     ]
    }
   ],
   "source": [
    "input_list = input('Enter elements of a list separated by comma: ') # taking list elements from user\n",
    "\n",
    "user_list = input_list.split(',')       # preparing list\n",
    "\n",
    "print(f\"\\nThe user list is : {user_list}.\")       # printing user list\n",
    "\n",
    "max_value = max(user_list, key=lambda x:int(x))      # defining LAMBDA function\n",
    "\n",
    "print(f\"\\nThe maximum number from the user list is : {max_value}.\")       # printing max value from list"
   ]
  },
  {
   "cell_type": "markdown",
   "id": "bb78c98e",
   "metadata": {},
   "source": [
    "### 8. Implement a `lambda function` to filter out all the `even numbers` from a list of integers."
   ]
  },
  {
   "cell_type": "markdown",
   "id": "0b150fdf",
   "metadata": {},
   "source": [
    "**`Ans-8`**"
   ]
  },
  {
   "cell_type": "code",
   "execution_count": 2,
   "id": "6b0ce00d",
   "metadata": {
    "ExecuteTime": {
     "end_time": "2023-06-21T15:15:04.316732Z",
     "start_time": "2023-06-21T15:15:04.303149Z"
    }
   },
   "outputs": [
    {
     "name": "stdout",
     "output_type": "stream",
     "text": [
      "\n",
      "The number list is : [11, 22, 33, 44, 55, 66, 77, 88, 99, 100].\n",
      "\n",
      "The List of Even Numbers is : [22, 44, 66, 88, 100]\n"
     ]
    }
   ],
   "source": [
    "num_list = [11, 22, 33, 44, 55, 66, 77, 88, 99, 100]     # defining list\n",
    "\n",
    "print(f\"\\nThe number list is : {num_list}.\")       # printing number list\n",
    "\n",
    "even_num = list(filter(lambda x: x % 2 == 0, num_list))   # applying LAMBDA function\n",
    "\n",
    "print(f\"\\nThe List of Even Numbers is : {even_num}\")      # printing list of even numbers"
   ]
  },
  {
   "cell_type": "markdown",
   "id": "6f42bd1b",
   "metadata": {},
   "source": [
    "### 9. Write a `lambda function` to sort a list of strings in `ascending order` based on the length of each string."
   ]
  },
  {
   "cell_type": "markdown",
   "id": "2d8cb60f",
   "metadata": {},
   "source": [
    "**`Ans-9`**"
   ]
  },
  {
   "cell_type": "code",
   "execution_count": 7,
   "id": "fb19c71b",
   "metadata": {
    "ExecuteTime": {
     "end_time": "2023-06-21T15:23:04.380127Z",
     "start_time": "2023-06-21T15:23:04.359326Z"
    }
   },
   "outputs": [
    {
     "name": "stdout",
     "output_type": "stream",
     "text": [
      "\n",
      "The list of string is : ['rohan', 'amy', 'sapna', 'muhammad', 'aakash', 'raunak', 'chinmoy'].\n",
      "\n",
      "The list elements in ascending order is : ['amy', 'rohan', 'sapna', 'aakash', 'raunak', 'chinmoy', 'muhammad'].\n"
     ]
    }
   ],
   "source": [
    "str_list = [\"rohan\", \"amy\", \"sapna\", \"muhammad\", \"aakash\", \"raunak\", \"chinmoy\"]       # defining list of strings\n",
    "\n",
    "print(f\"\\nThe list of string is : {str_list}.\")       # printing user list of string\n",
    "\n",
    "sortedList = sorted(str_list, key=lambda x: len(x))      # defining LAMBDA function\n",
    "\n",
    "print(f\"\\nThe list elements in ascending order is : {sortedList}.\")       # printing max value from list"
   ]
  },
  {
   "cell_type": "markdown",
   "id": "9df69fd8",
   "metadata": {},
   "source": [
    "### 10. Create a `lambda function` that takes two lists as input and returns a `new list` containing the `common elements` between the two lists."
   ]
  },
  {
   "cell_type": "markdown",
   "id": "bb2b7ce9",
   "metadata": {},
   "source": [
    "**`Ans-10`**"
   ]
  },
  {
   "cell_type": "code",
   "execution_count": 17,
   "id": "d8eb24c6",
   "metadata": {
    "ExecuteTime": {
     "end_time": "2023-06-21T15:36:21.213606Z",
     "start_time": "2023-06-21T15:36:21.182769Z"
    }
   },
   "outputs": [
    {
     "name": "stdout",
     "output_type": "stream",
     "text": [
      "The FIRST list is : [11, 22, 33, 44, 55, 66, 77, 88, 99].\n",
      "The SECOND list is : [22, 77, 44, 99, 33].\n",
      "\n",
      "The NEW List with common elements is : [22, 77, 44, 99, 33]\n"
     ]
    }
   ],
   "source": [
    "list_1 = [11,22,33,44,55,66,77,88,99]\n",
    "list_2 = [22,77,44,99,33]\n",
    "\n",
    "print(f\"The FIRST list is : {list_1}.\")\n",
    "print(f\"The SECOND list is : {list_2}.\")\n",
    "\n",
    "list_new = list(filter(lambda x: x in list_1, list_2)) \n",
    "\n",
    "print(f\"\\nThe NEW List with common elements is : {list_new}\")"
   ]
  },
  {
   "cell_type": "markdown",
   "id": "0c192ec5",
   "metadata": {},
   "source": [
    "### 11. Write a `recursive function` to calculate the factorial of a given `positive integer`."
   ]
  },
  {
   "cell_type": "markdown",
   "id": "b890b242",
   "metadata": {},
   "source": [
    "**`Ans-11`**"
   ]
  },
  {
   "cell_type": "code",
   "execution_count": 21,
   "id": "1bf6f96a",
   "metadata": {
    "ExecuteTime": {
     "end_time": "2023-06-21T16:40:25.836786Z",
     "start_time": "2023-06-21T16:40:25.824561Z"
    }
   },
   "outputs": [
    {
     "name": "stdout",
     "output_type": "stream",
     "text": [
      "The factorial of `7` is :  5040.\n"
     ]
    }
   ],
   "source": [
    "# Factorial of a number using recursion\n",
    "\n",
    "def recur_factorial(n):\n",
    "    if n == 1:\n",
    "        return n\n",
    "    else:\n",
    "        return n*recur_factorial(n-1)\n",
    "\n",
    "num = 7\n",
    "\n",
    "# check if the number is negative\n",
    "\n",
    "if num < 0:\n",
    "    print(\"Please provide the postive number.\")\n",
    "elif num == 0:\n",
    "    print(\"The factorial of 0 is 1.\")\n",
    "else:\n",
    "    print(f\"The factorial of `{num}` is :  {recur_factorial(num)}.\")\n"
   ]
  },
  {
   "cell_type": "markdown",
   "id": "491cd838",
   "metadata": {},
   "source": [
    "### 12. Implement a recursive function to compute the `nth Fibonacci number`."
   ]
  },
  {
   "cell_type": "markdown",
   "id": "4f05e7f8",
   "metadata": {},
   "source": [
    "**`Ans-12`**"
   ]
  },
  {
   "cell_type": "code",
   "execution_count": 28,
   "id": "487e5ad0",
   "metadata": {
    "ExecuteTime": {
     "end_time": "2023-06-21T16:45:15.982515Z",
     "start_time": "2023-06-21T16:45:14.899394Z"
    }
   },
   "outputs": [
    {
     "name": "stdout",
     "output_type": "stream",
     "text": [
      "Enter the Number : 4\n",
      "\n",
      "The 4th Fibonacci number is : 2\n"
     ]
    }
   ],
   "source": [
    "#recursive approach\n",
    "def fib_num(n):\n",
    "    if n<=0:\n",
    "        print(\"Fibonacci can't be computed\")\n",
    "   # First Fibonacci number\n",
    "    elif n==1:\n",
    "        return 0\n",
    "   # Second Fibonacci number\n",
    "    elif n==2:\n",
    "        return 1\n",
    "    else:\n",
    "        return fib_num(n-1)+fib_num(n-2)\n",
    "\n",
    "#input\n",
    "n=int(input(\"Enter the Number : \"))\n",
    "print(f\"\\nThe {n}th Fibonacci number is : {fib_num(n)}\")"
   ]
  },
  {
   "cell_type": "markdown",
   "id": "faaffde8",
   "metadata": {},
   "source": [
    "### 13. Create a recursive function to find the `sum of all the elements` in a given list."
   ]
  },
  {
   "cell_type": "markdown",
   "id": "fa472e23",
   "metadata": {},
   "source": [
    "**`Ans-13`**"
   ]
  },
  {
   "cell_type": "code",
   "execution_count": 3,
   "id": "c1fd1fcb",
   "metadata": {
    "ExecuteTime": {
     "end_time": "2023-06-21T16:49:08.363503Z",
     "start_time": "2023-06-21T16:49:08.340349Z"
    }
   },
   "outputs": [
    {
     "name": "stdout",
     "output_type": "stream",
     "text": [
      "The given list is : [11, 22, 33, 44, 55].\n",
      "\n",
      "The sum of all the elements of given list is : 165.\n"
     ]
    }
   ],
   "source": [
    "my_list=[11,22,33,44,55]\n",
    " \n",
    "def sum_list(my_list, nSum):\n",
    "    if len(my_list):\n",
    "        return sum_list(my_list[1:], nSum+my_list[0])\n",
    "    else:\n",
    "        return nSum\n",
    "         \n",
    "print(f\"The given list is : {my_list}.\")\n",
    "print(f\"\\nThe sum of all the elements of given list is : {sum_list(my_list, 0)}.\")"
   ]
  },
  {
   "cell_type": "markdown",
   "id": "b2c9c98c",
   "metadata": {},
   "source": [
    "### 14. Write a recursive function to determine whether a `given string is a palindrome`."
   ]
  },
  {
   "cell_type": "markdown",
   "id": "4f8c78b2",
   "metadata": {},
   "source": [
    "**`Ans-14`**"
   ]
  },
  {
   "cell_type": "code",
   "execution_count": 6,
   "id": "9f702e50",
   "metadata": {
    "ExecuteTime": {
     "end_time": "2023-06-21T16:53:21.082107Z",
     "start_time": "2023-06-21T16:53:18.903547Z"
    }
   },
   "outputs": [
    {
     "name": "stdout",
     "output_type": "stream",
     "text": [
      "Enter the string :RADAR\n",
      "\n",
      "The given string is : RADAR.\n",
      "\n",
      "The string is a PALINDROME.\n"
     ]
    }
   ],
   "source": [
    "def check_palindrome(my_str):\n",
    "    if len(my_str) < 1:\n",
    "        return True\n",
    "    else:\n",
    "        if my_str[0] == my_str[-1]:\n",
    "            return check_palindrome(my_str[1:-1])\n",
    "        else:\n",
    "            return False\n",
    "    \n",
    "my_string = str(input(\"Enter the string :\"))\n",
    "\n",
    "print(f\"\\nThe given string is : {my_string}.\")\n",
    "\n",
    "\n",
    "if(check_palindrome(my_string)==True):\n",
    "    print(\"\\nThe string is a PALINDROME.\")\n",
    "else:\n",
    "    print(\"\\nThe string isn't a PALINDROME.\")"
   ]
  },
  {
   "cell_type": "markdown",
   "id": "516e06da",
   "metadata": {},
   "source": [
    "### 15. Implement a recursive function to find the `greatest common divisor (GCD)` of two positive integers"
   ]
  },
  {
   "cell_type": "markdown",
   "id": "861ca893",
   "metadata": {},
   "source": [
    "**`Ans-15`**"
   ]
  },
  {
   "cell_type": "code",
   "execution_count": 9,
   "id": "319ff2d8",
   "metadata": {
    "ExecuteTime": {
     "end_time": "2023-06-21T16:58:05.643635Z",
     "start_time": "2023-06-21T16:58:05.618942Z"
    }
   },
   "outputs": [
    {
     "name": "stdout",
     "output_type": "stream",
     "text": [
      "The greatest common divisor of `25` & `45` is : 5.\n"
     ]
    }
   ],
   "source": [
    "def gcd(num1, num2):\n",
    "    if num1 == num2:\n",
    "        return num1\n",
    "    elif num1 < num2:\n",
    "        return gcd(num2, num1)\n",
    "    else:\n",
    "        return gcd(num2, num1 - num2)\n",
    "\n",
    "num1 = 25\n",
    "num2 = 45\n",
    "print(f\"The greatest common divisor of `{num1}` & `{num2}` is : {gcd(num1, num2)}.\")"
   ]
  }
 ],
 "metadata": {
  "hide_input": false,
  "kernelspec": {
   "display_name": "venv_heart_kernel",
   "language": "python",
   "name": "venv_heart_kernel"
  },
  "language_info": {
   "codemirror_mode": {
    "name": "ipython",
    "version": 3
   },
   "file_extension": ".py",
   "mimetype": "text/x-python",
   "name": "python",
   "nbconvert_exporter": "python",
   "pygments_lexer": "ipython3",
   "version": "3.10.9"
  },
  "varInspector": {
   "cols": {
    "lenName": 16,
    "lenType": 16,
    "lenVar": 40
   },
   "kernels_config": {
    "python": {
     "delete_cmd_postfix": "",
     "delete_cmd_prefix": "del ",
     "library": "var_list.py",
     "varRefreshCmd": "print(var_dic_list())"
    },
    "r": {
     "delete_cmd_postfix": ") ",
     "delete_cmd_prefix": "rm(",
     "library": "var_list.r",
     "varRefreshCmd": "cat(var_dic_list()) "
    }
   },
   "types_to_exclude": [
    "module",
    "function",
    "builtin_function_or_method",
    "instance",
    "_Feature"
   ],
   "window_display": false
  }
 },
 "nbformat": 4,
 "nbformat_minor": 5
}
